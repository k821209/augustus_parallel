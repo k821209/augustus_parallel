{
 "cells": [
  {
   "cell_type": "code",
   "execution_count": 7,
   "metadata": {},
   "outputs": [],
   "source": [
    "import pandas as pd \n",
    "import kang\n",
    "from tqdm import tqdm"
   ]
  },
  {
   "cell_type": "code",
   "execution_count": 2,
   "metadata": {},
   "outputs": [],
   "source": [
    "ingff  =  './pregff.gff3'\n",
    "df_gff = pd.read_csv(ingff,comment='#',sep='\\t',header=None)"
   ]
  },
  {
   "cell_type": "code",
   "execution_count": 4,
   "metadata": {},
   "outputs": [
    {
     "data": {
      "text/plain": [
       "array(['gene', 'mRNA', 'CDS', 'three_prime_UTR', 'five_prime_UTR'],\n",
       "      dtype=object)"
      ]
     },
     "execution_count": 4,
     "metadata": {},
     "output_type": "execute_result"
    }
   ],
   "source": [
    "df_gff[2].unique()"
   ]
  },
  {
   "cell_type": "code",
   "execution_count": 13,
   "metadata": {},
   "outputs": [
    {
     "name": "stderr",
     "output_type": "stream",
     "text": [
      "100%|██████████| 291123/291123 [02:21<00:00, 2050.59it/s]\n"
     ]
    }
   ],
   "source": [
    "startnum = 0\n",
    "dic      = {}\n",
    "dic_t    = {} # transcript count \n",
    "dic_c    = {} # cds count \n",
    "dic_5u   = {}\n",
    "dic_3u   = {}\n",
    "new_col  = []\n",
    "for ix in tqdm(df_gff.index):\n",
    "    edf  = df_gff.loc[ix]\n",
    "    scaf = edf[0] \n",
    "    if edf[2] == 'gene': ## ID=g1\n",
    "        geneID = scaf+'_'+kang.infoparse(edf[8])['ID']\n",
    "        newgeneID = 'Waus{:05d}g'.format(int(scaf.replace('scaffold',''))) + '{:05d}'.format(startnum)\n",
    "        dic[geneID] = newgeneID \n",
    "        new_col.append('ID='+newgeneID)\n",
    "        startnum += 1\n",
    "    elif edf[2] == 'mRNA': ## ID=g1.t1;Parent=g1\n",
    "        geneID          = scaf+'_'+kang.infoparse(edf[8])['Parent']\n",
    "        newgeneID       = dic[geneID]\n",
    "        try:\n",
    "            dic_t[newgeneID] += 1\n",
    "        except KeyError:\n",
    "            dic_t[newgeneID] = 1\n",
    "        transcriptID    = scaf+'_'+kang.infoparse(edf[8])['ID']\n",
    "        #newtranscriptID = newgeneID+'.'+transcriptID.split('.')[1]\n",
    "        newtranscriptID = newgeneID+'.'+str(dic_t[newgeneID])\n",
    "        dic[transcriptID] = newtranscriptID \n",
    "        new_col.append('ID='+newtranscriptID+';'+'Parent='+newgeneID)\n",
    "    elif edf[2] == 'CDS': ## ID=g1.t1.cds;Parent=g1.t1\n",
    "        transcriptID       = scaf+'_'+kang.infoparse(edf[8])['Parent']\n",
    "        newtranscriptID    = dic[transcriptID]\n",
    "        try:\n",
    "            dic_c[newtranscriptID] += 1\n",
    "        except KeyError:\n",
    "            dic_c[newtranscriptID] = 1\n",
    "        cdsID              = scaf+'_'+kang.infoparse(edf[8])['ID']\n",
    "        newcdsID           = newtranscriptID+'.'+str(dic_c[newtranscriptID])\n",
    "        new_col.append('ID=cds.'+newcdsID+';'+'Parent='+newtranscriptID)\n",
    "    elif edf[2] == 'three_prime_UTR': ## ID=g1.t1.cds;Parent=g1.t1\n",
    "        transcriptID       = scaf+'_'+kang.infoparse(edf[8])['Parent']\n",
    "        newtranscriptID    = dic[transcriptID]\n",
    "        try:\n",
    "            dic_3u[newtranscriptID] += 1\n",
    "        except KeyError:\n",
    "            dic_3u[newtranscriptID] = 1\n",
    "        cdsID              = scaf+'_'+kang.infoparse(edf[8])['ID']\n",
    "        newcdsID           = newtranscriptID+'.'+str(dic_3u[newtranscriptID])\n",
    "        new_col.append('ID=3utr.'+newcdsID+';'+'Parent='+newtranscriptID)\n",
    "    elif edf[2] == 'five_prime_UTR': ## ID=g1.t1.cds;Parent=g1.t1\n",
    "        transcriptID       = scaf+'_'+kang.infoparse(edf[8])['Parent']\n",
    "        newtranscriptID    = dic[transcriptID]\n",
    "        try:\n",
    "            dic_5u[newtranscriptID] += 1\n",
    "        except KeyError:\n",
    "            dic_5u[newtranscriptID] = 1\n",
    "        cdsID              = scaf+'_'+kang.infoparse(edf[8])['ID']\n",
    "        newcdsID           = newtranscriptID+'.'+str(dic_5u[newtranscriptID])\n",
    "        new_col.append('ID=5utr.'+newcdsID+';'+'Parent='+newtranscriptID)"
   ]
  },
  {
   "cell_type": "code",
   "execution_count": 14,
   "metadata": {},
   "outputs": [],
   "source": [
    "#m = df_gff[2].isin(['gene','mRNA','CDS'])\n",
    "df_gff_sub = df_gff\n",
    "df_gff_sub[9] = new_col\n",
    "df_gff_sub[[0,1,2,3,4,5,6,7,9]].to_csv(ingff+'.corrected.gff3',sep='\\t',index=False,header=None)"
   ]
  },
  {
   "cell_type": "code",
   "execution_count": null,
   "metadata": {},
   "outputs": [],
   "source": []
  },
  {
   "cell_type": "code",
   "execution_count": null,
   "metadata": {},
   "outputs": [],
   "source": []
  }
 ],
 "metadata": {
  "kernelspec": {
   "display_name": "Python 3",
   "language": "python",
   "name": "python3"
  },
  "language_info": {
   "codemirror_mode": {
    "name": "ipython",
    "version": 3
   },
   "file_extension": ".py",
   "mimetype": "text/x-python",
   "name": "python",
   "nbconvert_exporter": "python",
   "pygments_lexer": "ipython3",
   "version": "3.6.8"
  }
 },
 "nbformat": 4,
 "nbformat_minor": 2
}
