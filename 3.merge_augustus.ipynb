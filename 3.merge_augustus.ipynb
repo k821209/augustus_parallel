{
 "cells": [
  {
   "cell_type": "code",
   "execution_count": 1,
   "metadata": {},
   "outputs": [],
   "source": [
    "import pandas as pd \n",
    "import kang\n",
    "from tqdm import tqdm"
   ]
  },
  {
   "cell_type": "code",
   "execution_count": 2,
   "metadata": {},
   "outputs": [],
   "source": [
    "ingff  =  './merged.gff3'\n",
    "df_gff = pd.read_csv(ingff,comment='#',sep='\\t',header=None)"
   ]
  },
  {
   "cell_type": "code",
   "execution_count": 4,
   "metadata": {},
   "outputs": [
    {
     "name": "stderr",
     "output_type": "stream",
     "text": [
      "100%|██████████| 280660/280660 [02:09<00:00, 2175.51it/s]\n"
     ]
    }
   ],
   "source": [
    "startnum = 0\n",
    "dic      = {}\n",
    "new_col  = []\n",
    "for ix in tqdm(df_gff.index):\n",
    "    edf  = df_gff.loc[ix]\n",
    "    scaf = edf[0] \n",
    "    if edf[2] == 'gene': ## ID=g1\n",
    "        geneID = scaf+'_'+kang.infoparse(edf[8])['ID']\n",
    "        newgeneID = 'Waus{:05d}g'.format(int(scaf.replace('scaffold',''))) + '{:05d}'.format(startnum)\n",
    "        dic[geneID] = newgeneID \n",
    "        new_col.append('ID='+newgeneID)\n",
    "        startnum += 1\n",
    "    elif edf[2] == 'mRNA': ## ID=g1.t1;Parent=g1\n",
    "        geneID          = scaf+'_'+kang.infoparse(edf[8])['Parent']\n",
    "        newgeneID       = dic[geneID]\n",
    "        transcriptID    = scaf+'_'+kang.infoparse(edf[8])['ID']\n",
    "        newtranscriptID = newgeneID+'.'+transcriptID.split('.')[1]\n",
    "        dic[transcriptID] = newtranscriptID \n",
    "        new_col.append('ID='+newtranscriptID+';'+'Parent='+newgeneID)\n",
    "    elif edf[2] == 'CDS': ## ID=g1.t1.cds;Parent=g1.t1\n",
    "        transcriptID       = scaf+'_'+kang.infoparse(edf[8])['Parent']\n",
    "        newtranscriptID    = dic[transcriptID]\n",
    "        cdsID              = scaf+'_'+kang.infoparse(edf[8])['ID']\n",
    "        newcdsID           = newtranscriptID+'.'+cdsID.split('.')[-1]\n",
    "        new_col.append('ID='+newcdsID+';'+'Parent='+newtranscriptID)"
   ]
  },
  {
   "cell_type": "code",
   "execution_count": 6,
   "metadata": {},
   "outputs": [
    {
     "name": "stderr",
     "output_type": "stream",
     "text": [
      "/usr/local/lib/python3.6/site-packages/ipykernel_launcher.py:3: SettingWithCopyWarning: \n",
      "A value is trying to be set on a copy of a slice from a DataFrame.\n",
      "Try using .loc[row_indexer,col_indexer] = value instead\n",
      "\n",
      "See the caveats in the documentation: http://pandas.pydata.org/pandas-docs/stable/indexing.html#indexing-view-versus-copy\n",
      "  This is separate from the ipykernel package so we can avoid doing imports until\n"
     ]
    }
   ],
   "source": [
    "m = df_gff[2].isin(['gene','mRNA','CDS'])\n",
    "df_gff_sub = df_gff[m]\n",
    "df_gff_sub[9] = new_col\n",
    "df_gff_sub[[0,1,2,3,4,5,6,7,9]].to_csv(ingff+'.corrected.gff3',sep='\\t',index=False,header=None)"
   ]
  },
  {
   "cell_type": "code",
   "execution_count": null,
   "metadata": {},
   "outputs": [],
   "source": []
  },
  {
   "cell_type": "code",
   "execution_count": null,
   "metadata": {},
   "outputs": [],
   "source": []
  }
 ],
 "metadata": {
  "kernelspec": {
   "display_name": "Python 3",
   "language": "python",
   "name": "python3"
  },
  "language_info": {
   "codemirror_mode": {
    "name": "ipython",
    "version": 3
   },
   "file_extension": ".py",
   "mimetype": "text/x-python",
   "name": "python",
   "nbconvert_exporter": "python",
   "pygments_lexer": "ipython3",
   "version": "3.6.8"
  }
 },
 "nbformat": 4,
 "nbformat_minor": 2
}
